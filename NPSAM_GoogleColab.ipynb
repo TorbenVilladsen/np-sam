{
  "cells": [
    {
      "attachments": {},
      "cell_type": "markdown",
      "metadata": {
        "id": "XCx-wvPrfQ7l"
      },
      "source": [
        "##In Colab, be sure to select 'GPU' under 'Edit' -> 'Notebook Settings' -> 'Hardware accelerator'."
      ]
    },
    {
      "cell_type": "markdown",
      "metadata": {
        "id": "PL_erYAxMUeI"
      },
      "source": [
        "First, necessary packages are loaded and repository is cloned"
      ]
    },
    {
      "cell_type": "code",
      "execution_count": null,
      "metadata": {
        "id": "NxpQKx3j7sGe"
      },
      "outputs": [],
      "source": [
        "import torch\n",
        "import torchvision\n",
        "import sys\n",
        "import os\n",
        "os.chdir('/content')\n",
        "print(\"PyTorch version:\", torch.__version__)\n",
        "print(\"Torchvision version:\", torchvision.__version__)\n",
        "print(\"CUDA is available:\", torch.cuda.is_available())\n",
        "\n",
        "!{sys.executable} -m pip install opencv-python ultralytics==8.0.120\n",
        "\n",
        "!git clone https://gitlab.au.dk/disorder/np-sam.git\n",
        "\n",
        "os.chdir('/content/np-sam')\n",
        "\n",
        "!rm LICENSE.txt NPSAM.ipynb README.md requirements.txt\n",
        "\n",
        "!wget -N https://dl.fbaipublicfiles.com/segment_anything/sam_vit_h_4b8939.pth\n",
        "\n",
        "from Utils import *"
      ]
    },
    {
      "cell_type": "markdown",
      "metadata": {
        "id": "mJw0RhNBNGiH"
      },
      "source": [
        "Upload the image(s) to to the content folder and set a pathname called `filepath` to a file or a folder of the filetype .png, .jpg, .jpeg, .tif, .tiff (either an absolute or relative pathname)"
      ]
    },
    {
      "cell_type": "code",
      "execution_count": null,
      "metadata": {
        "id": "9AvDVxzF9w3r"
      },
      "outputs": [],
      "source": [
        "filepath = '/content/np-sam/Sample_images/PdCu_HAADF.png'"
      ]
    },
    {
      "cell_type": "code",
      "execution_count": null,
      "metadata": {
        "id": "q7LFR75TNRGL"
      },
      "outputs": [],
      "source": [
        "filepath = '/content/np-sam/Sample_images'"
      ]
    },
    {
      "attachments": {},
      "cell_type": "markdown",
      "metadata": {
        "id": "W0MV8fzPNZ9O"
      },
      "source": [
        "Call the `SAM` function from `Utils.py` to get masks from the image. The function takes arguments:<br>\n",
        "    `device` (str): Can be either `cuda` or `cpu`. <br>\n",
        "    `PPS` (int): Sets the sampling gridsize for the image (`default=64`). <br>\n",
        "    `use_FastSAM` (bool): If True the model will opt to use [FastSAM](https://github.com/CASIA-IVA-Lab/FastSAM) which is a lot faster but can struggle with more complicated samples and small NPs (`default=False`). <br>\n",
        "    `pre_filter` (bool): Removes faulty masks for a better and faster experience. However, for non-spherical NPs it might cause problems (`default=True`) <br>\n",
        "    `min_masks_region_area` (int): Sets the minimum mask area in pixels. Makes SAM faster but will miss NPs smaller than threshold (`default=35`) <br>\n",
        "    `**kwargs`: More key word arguments can be applied see [documentation](https://github.com/facebookresearch/segment-anything/blob/main/segment_anything/automatic_mask_generator.py#L35) of the model. <br>\n",
        "When executing `SAM` a folder `_files` is created either besides the single file or inside the folder of the multiple files."
      ]
    },
    {
      "cell_type": "code",
      "execution_count": 3,
      "metadata": {
        "id": "agrgWX5QBIwN"
      },
      "outputs": [],
      "source": [
        "SAM(filepath, device='cuda', PPS=64, use_FastSAM=True)"
      ]
    },
    {
      "cell_type": "markdown",
      "metadata": {
        "id": "3Fp7AkHkNtId"
      },
      "source": [
        "***\n",
        "If `SAM` has already been executed once it is not necessary to segment the image again, as the masks have previously been saved, that it unless you want to redo it with other parameters. I Google Colab the runtime will expire quite fast if the user is inactive and therefore it is a good idea to save the files made by `SAM` locally then they can be further processed in Jupyter lab or the user can continue in Google Colab."
      ]
    },
    {
      "cell_type": "markdown",
      "metadata": {
        "id": "doRIYdnAOOF9"
      },
      "source": [
        "The `nb_unique` function from `Utils.py` is used to find every unique binary vector, or in other words every unique combination of masks, of the sampled pixels. <br>\n",
        "`stepsize` (int): Sets the step size such that the function `nb_unique` will traverse the array of masks faster. With increasing step size the faster `nb_unique` will run. However, be cautious to not increase the step size too much for images with small NPs."
      ]
    },
    {
      "cell_type": "code",
      "execution_count": null,
      "metadata": {
        "id": "b_Yi7M2IJ6CL"
      },
      "outputs": [],
      "source": [
        "nb_unique(filepath)"
      ]
    },
    {
      "cell_type": "markdown",
      "metadata": {
        "id": "khq6oNcsOVhC"
      },
      "source": [
        "***\n",
        "The `labels_func` from `Utils.py` gives all pixels sharing the same unique binary vector of masks a unique label (an integer) to be easily identified later. In this function another function from `scikit-image` called `remove_small_objects`from the file `morphology`is envoked. It removes all not-connected grains of pixels smaller than a given area which in our case is set to 16 pixels."
      ]
    },
    {
      "cell_type": "code",
      "execution_count": null,
      "metadata": {
        "id": "q_EqV3U3KnHd"
      },
      "outputs": [],
      "source": [
        "labels_func(filepath)"
      ]
    },
    {
      "cell_type": "code",
      "execution_count": null,
      "metadata": {},
      "outputs": [],
      "source": [
        "label_plot(filepath)"
      ]
    },
    {
      "cell_type": "markdown",
      "metadata": {
        "id": "Nx5s6SAAObpV"
      },
      "source": [
        "The function `properties` will create a pandas dataframe that contains properties from the `scikit-image`library `regionprops` for more [infomation](https://scikit-image.org/docs/stable/api/skimage.measure.html#skimage.measure.regionprops).\n",
        "The function takes the argument: <br>\n",
        "`scaling` (bool): which if True prompts the user to apply a scaling i pixels pr nm. Can also take a fraction: Therefore, if the image has a $50$ nm scalebar measuring $400$ pixels a scale can be given as $400/50$.\n",
        "For multiple files a specific scaling can be given for eack file or the same for all.\n",
        "The initial properties are saved as a csv file called `_raw_properties` such external editing is possible"
      ]
    },
    {
      "cell_type": "code",
      "execution_count": null,
      "metadata": {
        "id": "eBh6KP76KmnJ"
      },
      "outputs": [],
      "source": [
        "properties(filepath, scaling=True)"
      ]
    },
    {
      "cell_type": "markdown",
      "metadata": {
        "id": "gBl2mpUiOiKZ"
      },
      "source": [
        "The interactive GUI is not available in Google Colab. Therefore, filter conditions can be applied manually. Be aware to use the same syntax as shown below including spaces, ' and </>."
      ]
    },
    {
      "cell_type": "code",
      "execution_count": null,
      "metadata": {
        "id": "K5zGQCXLOjr9"
      },
      "outputs": [],
      "source": [
        "conditions = \"\"\"[\n",
        "(df['solidity'] > 0.2),\n",
        "(df['area'] > 1),\n",
        "(df['eccentricity'] < 0.9),\n",
        "(df['overlap'] < 30),\n",
        "(df['intensity_mean'] < 200),\n",
        "(df['euler_number'] < 2)\n",
        "]\"\"\""
      ]
    },
    {
      "cell_type": "code",
      "execution_count": null,
      "metadata": {
        "id": "flSKJ7YqOzDH"
      },
      "outputs": [],
      "source": [
        "define_manual(filepath)"
      ]
    },
    {
      "cell_type": "markdown",
      "metadata": {
        "id": "t0tnnFllOwJ_"
      },
      "source": [
        "If `image_number=0` the conditions are applied to all images otherwise specify which image you want to filter."
      ]
    },
    {
      "cell_type": "code",
      "execution_count": null,
      "metadata": {
        "id": "U1MMkmhIO4hI"
      },
      "outputs": [],
      "source": [
        "manual_filter(filepath, conditions, image_number=1)"
      ]
    },
    {
      "cell_type": "markdown",
      "metadata": {
        "id": "g6yZVW0bO-g_"
      },
      "source": [
        "Conclusively, an overview can be made with said function. It plots all images with a histogram over the area, and which parameters was use to filter the labels. If a folder has been used the united area histogram is plotted. This is then compiled to a pdf."
      ]
    },
    {
      "cell_type": "code",
      "execution_count": null,
      "metadata": {
        "id": "ISLbqaTSO68C"
      },
      "outputs": [],
      "source": [
        "overview(filepath)"
      ]
    }
  ],
  "metadata": {
    "accelerator": "GPU",
    "colab": {
      "gpuType": "T4",
      "provenance": []
    },
    "kernelspec": {
      "display_name": "Python 3",
      "name": "python3"
    },
    "language_info": {
      "name": "python"
    }
  },
  "nbformat": 4,
  "nbformat_minor": 0
}
